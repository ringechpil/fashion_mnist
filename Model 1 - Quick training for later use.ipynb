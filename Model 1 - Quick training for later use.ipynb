{
 "cells": [
  {
   "cell_type": "markdown",
   "metadata": {},
   "source": [
    "# CNN for Fashion-MNIST dataset\n",
    "\n",
    "### Model 1 - Homemade Shallow Net\n",
    "\n",
    "As we saw, we can get good precision by training our 'homemade shallow net' model relatively fast. Here we will train it in 20 epochs (which will take less than 20 minutes) in order to save the model and reuse it later for object detection program. "
   ]
  },
  {
   "cell_type": "markdown",
   "metadata": {},
   "source": [
    "### Loading and preparing the dataset"
   ]
  },
  {
   "cell_type": "code",
   "execution_count": 1,
   "metadata": {},
   "outputs": [],
   "source": [
    "import warnings\n",
    "warnings.filterwarnings(\"ignore\")\n",
    "\n",
    "from random import randrange\n",
    "import numpy as np\n",
    "import matplotlib.pyplot as plt"
   ]
  },
  {
   "cell_type": "code",
   "execution_count": 2,
   "metadata": {},
   "outputs": [
    {
     "name": "stderr",
     "output_type": "stream",
     "text": [
      "Using TensorFlow backend.\n"
     ]
    },
    {
     "name": "stdout",
     "output_type": "stream",
     "text": [
      "(60000, 28, 28) (10000, 28, 28)\n"
     ]
    }
   ],
   "source": [
    "#loading the train and the test set\n",
    "from keras.datasets import fashion_mnist\n",
    "\n",
    "(X_train, y_train), (X_test, y_test) = fashion_mnist.load_data()\n",
    "print(X_train.shape, X_test.shape)"
   ]
  },
  {
   "cell_type": "code",
   "execution_count": 3,
   "metadata": {},
   "outputs": [],
   "source": [
    "#Adding the fourth axis\n",
    "X_train = np.expand_dims(X_train, axis = 3)\n",
    "X_test = np.expand_dims(X_test, axis = 3)"
   ]
  },
  {
   "cell_type": "code",
   "execution_count": 4,
   "metadata": {},
   "outputs": [],
   "source": [
    "#Scaling the values to [0,1] range\n",
    "X_train = X_train.astype('float')\n",
    "X_test = X_test.astype('float')\n",
    "\n",
    "X_train = X_train/255\n",
    "X_test = X_test/255"
   ]
  },
  {
   "cell_type": "code",
   "execution_count": 5,
   "metadata": {},
   "outputs": [],
   "source": [
    "#Encoding the classes\n",
    "from keras.utils import to_categorical\n",
    "\n",
    "y_train = to_categorical(y_train, 10)\n",
    "y_test = to_categorical(y_test, 10)"
   ]
  },
  {
   "cell_type": "markdown",
   "metadata": {},
   "source": [
    "### Building the CNN"
   ]
  },
  {
   "cell_type": "code",
   "execution_count": 6,
   "metadata": {},
   "outputs": [],
   "source": [
    "from keras.models import Sequential\n",
    "from keras.layers import Conv2D, MaxPool2D, Dropout, Dense, Flatten\n",
    "from keras.optimizers import nadam\n",
    "from keras.regularizers import l2"
   ]
  },
  {
   "cell_type": "code",
   "execution_count": 7,
   "metadata": {},
   "outputs": [],
   "source": [
    "cnn = Sequential()\n",
    "\n",
    "cnn.add(Conv2D(input_shape = (28, 28, 1), filters = 32, \n",
    "              kernel_size = (3,3), activation = 'relu', \n",
    "              padding='same', kernel_regularizer=l2(1e-4)))\n",
    "cnn.add(MaxPool2D((2,2)))\n",
    "\n",
    "cnn.add(Conv2D(filters = 32, \n",
    "              kernel_size = (3,3), activation = 'relu', \n",
    "              padding='same', kernel_regularizer=l2(1e-4)))\n",
    "cnn.add(MaxPool2D((2,2)))\n",
    "\n",
    "\n",
    "cnn.add(Flatten())\n",
    "\n",
    "cnn.add(Dense(units = 256, activation='relu', \n",
    "              kernel_regularizer=l2(1e-4)))\n",
    "cnn.add(Dropout(0.35))\n",
    "cnn.add(Dense(units = 10, activation = 'softmax'))"
   ]
  },
  {
   "cell_type": "code",
   "execution_count": 8,
   "metadata": {},
   "outputs": [
    {
     "name": "stdout",
     "output_type": "stream",
     "text": [
      "Model: \"sequential_1\"\n",
      "_________________________________________________________________\n",
      "Layer (type)                 Output Shape              Param #   \n",
      "=================================================================\n",
      "conv2d_1 (Conv2D)            (None, 28, 28, 32)        320       \n",
      "_________________________________________________________________\n",
      "max_pooling2d_1 (MaxPooling2 (None, 14, 14, 32)        0         \n",
      "_________________________________________________________________\n",
      "conv2d_2 (Conv2D)            (None, 14, 14, 32)        9248      \n",
      "_________________________________________________________________\n",
      "max_pooling2d_2 (MaxPooling2 (None, 7, 7, 32)          0         \n",
      "_________________________________________________________________\n",
      "flatten_1 (Flatten)          (None, 1568)              0         \n",
      "_________________________________________________________________\n",
      "dense_1 (Dense)              (None, 256)               401664    \n",
      "_________________________________________________________________\n",
      "dropout_1 (Dropout)          (None, 256)               0         \n",
      "_________________________________________________________________\n",
      "dense_2 (Dense)              (None, 10)                2570      \n",
      "=================================================================\n",
      "Total params: 413,802\n",
      "Trainable params: 413,802\n",
      "Non-trainable params: 0\n",
      "_________________________________________________________________\n"
     ]
    }
   ],
   "source": [
    "cnn.summary()"
   ]
  },
  {
   "cell_type": "code",
   "execution_count": 9,
   "metadata": {},
   "outputs": [],
   "source": [
    "cnn.compile(loss = 'categorical_crossentropy', \n",
    "           optimizer = nadam(lr = 0.001),\n",
    "           metrics = ['accuracy'])"
   ]
  },
  {
   "cell_type": "code",
   "execution_count": 10,
   "metadata": {
    "scrolled": true
   },
   "outputs": [
    {
     "name": "stdout",
     "output_type": "stream",
     "text": [
      "Train on 60000 samples, validate on 10000 samples\n",
      "Epoch 1/20\n",
      "60000/60000 [==============================] - 42s 699us/step - loss: 0.6485 - accuracy: 0.7832 - val_loss: 0.5335 - val_accuracy: 0.8192\n",
      "Epoch 2/20\n",
      "60000/60000 [==============================] - 41s 690us/step - loss: 0.4108 - accuracy: 0.8695 - val_loss: 0.3905 - val_accuracy: 0.8787\n",
      "Epoch 3/20\n",
      "60000/60000 [==============================] - 41s 678us/step - loss: 0.3609 - accuracy: 0.8878 - val_loss: 0.3775 - val_accuracy: 0.8826\n",
      "Epoch 4/20\n",
      "60000/60000 [==============================] - 41s 685us/step - loss: 0.3326 - accuracy: 0.8961 - val_loss: 0.3416 - val_accuracy: 0.8929\n",
      "Epoch 5/20\n",
      "60000/60000 [==============================] - 41s 682us/step - loss: 0.3115 - accuracy: 0.9042 - val_loss: 0.3346 - val_accuracy: 0.8959\n",
      "Epoch 6/20\n",
      "60000/60000 [==============================] - 41s 680us/step - loss: 0.2965 - accuracy: 0.9088 - val_loss: 0.3231 - val_accuracy: 0.8991\n",
      "Epoch 7/20\n",
      "60000/60000 [==============================] - 41s 682us/step - loss: 0.2860 - accuracy: 0.9122 - val_loss: 0.3234 - val_accuracy: 0.8972\n",
      "Epoch 8/20\n",
      "60000/60000 [==============================] - 41s 686us/step - loss: 0.2751 - accuracy: 0.9168 - val_loss: 0.3006 - val_accuracy: 0.9061\n",
      "Epoch 9/20\n",
      "60000/60000 [==============================] - 43s 715us/step - loss: 0.2663 - accuracy: 0.9199 - val_loss: 0.3838 - val_accuracy: 0.8779\n",
      "Epoch 10/20\n",
      "60000/60000 [==============================] - 43s 710us/step - loss: 0.2594 - accuracy: 0.9223 - val_loss: 0.2932 - val_accuracy: 0.9100\n",
      "Epoch 11/20\n",
      "60000/60000 [==============================] - 41s 692us/step - loss: 0.2495 - accuracy: 0.9258 - val_loss: 0.2946 - val_accuracy: 0.9134\n",
      "Epoch 12/20\n",
      "60000/60000 [==============================] - 42s 700us/step - loss: 0.2436 - accuracy: 0.9283 - val_loss: 0.2875 - val_accuracy: 0.9116\n",
      "Epoch 13/20\n",
      "60000/60000 [==============================] - 43s 710us/step - loss: 0.2358 - accuracy: 0.9319 - val_loss: 0.2877 - val_accuracy: 0.9161\n",
      "Epoch 14/20\n",
      "60000/60000 [==============================] - 42s 695us/step - loss: 0.2312 - accuracy: 0.9334 - val_loss: 0.2759 - val_accuracy: 0.9193\n",
      "Epoch 15/20\n",
      "60000/60000 [==============================] - 42s 699us/step - loss: 0.2248 - accuracy: 0.9366 - val_loss: 0.3400 - val_accuracy: 0.8984\n",
      "Epoch 16/20\n",
      "60000/60000 [==============================] - 41s 690us/step - loss: 0.2194 - accuracy: 0.9383 - val_loss: 0.2918 - val_accuracy: 0.9130\n",
      "Epoch 17/20\n",
      "60000/60000 [==============================] - 40s 672us/step - loss: 0.2137 - accuracy: 0.9409 - val_loss: 0.2881 - val_accuracy: 0.9167\n",
      "Epoch 18/20\n",
      "60000/60000 [==============================] - 41s 676us/step - loss: 0.2089 - accuracy: 0.9436 - val_loss: 0.2891 - val_accuracy: 0.9194\n",
      "Epoch 19/20\n",
      "60000/60000 [==============================] - 41s 678us/step - loss: 0.2044 - accuracy: 0.9461 - val_loss: 0.3018 - val_accuracy: 0.9135\n",
      "Epoch 20/20\n",
      "60000/60000 [==============================] - 41s 679us/step - loss: 0.1989 - accuracy: 0.9489 - val_loss: 0.2824 - val_accuracy: 0.9212\n"
     ]
    }
   ],
   "source": [
    "history = cnn.fit(X_train, y_train, batch_size = 256, epochs = 20, \n",
    "        shuffle = True, validation_data= (X_test, y_test), \n",
    "        verbose=1)"
   ]
  },
  {
   "cell_type": "code",
   "execution_count": 12,
   "metadata": {},
   "outputs": [
    {
     "data": {
      "image/png": "[encoded data removed]",
      "text/plain": [
       "<Figure size 432x288 with 1 Axes>"
      ]
     },
     "metadata": {
      "needs_background": "light"
     },
     "output_type": "display_data"
    }
   ],
   "source": [
    "plt.plot(history.history['accuracy'])\n",
    "plt.plot(history.history['val_accuracy'])\n",
    "plt.xticks(np.arange(0,21,5))\n",
    "plt.ylim(0.75,1), plt.yticks(np.arange(0.75,1.025,0.025))\n",
    "plt.title('model accuracy')\n",
    "plt.ylabel('accuracy')\n",
    "plt.xlabel('epoch')\n",
    "plt.legend(['train', 'test'], loc='upper left')\n",
    "plt.show()"
   ]
  },
  {
   "cell_type": "markdown",
   "metadata": {},
   "source": [
    "### Saving the model\n",
    "\n",
    "In the last epoch our model showed 94.9% accuracy on the test set, and 92.1% accuracy on a training set. We will now save the model for later use. "
   ]
  },
  {
   "cell_type": "code",
   "execution_count": 13,
   "metadata": {},
   "outputs": [],
   "source": [
    "cnn.save('hm_shallow_net.h5py')"
   ]
  }
 ],
 "metadata": {
  "kernelspec": {
   "display_name": "Python 3",
   "language": "python",
   "name": "python3"
  },
  "language_info": {
   "codemirror_mode": {
    "name": "ipython",
    "version": 3
   },
   "file_extension": ".py",
   "mimetype": "text/x-python",
   "name": "python",
   "nbconvert_exporter": "python",
   "pygments_lexer": "ipython3",
   "version": "3.6.8"
  }
 },
 "nbformat": 4,
 "nbformat_minor": 4
}
